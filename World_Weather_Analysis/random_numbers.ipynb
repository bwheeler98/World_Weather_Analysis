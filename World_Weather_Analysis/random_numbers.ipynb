{
 "cells": [
  {
   "cell_type": "code",
   "execution_count": 1,
   "id": "c5488a5e",
   "metadata": {},
   "outputs": [],
   "source": [
    "import random"
   ]
  },
  {
   "cell_type": "code",
   "execution_count": 2,
   "id": "a20ecc0b",
   "metadata": {},
   "outputs": [
    {
     "data": {
      "text/plain": [
       "-48"
      ]
     },
     "execution_count": 2,
     "metadata": {},
     "output_type": "execute_result"
    }
   ],
   "source": [
    "random.randint(-90,90)"
   ]
  },
  {
   "cell_type": "code",
   "execution_count": 3,
   "id": "03901c73",
   "metadata": {},
   "outputs": [
    {
     "data": {
      "text/plain": [
       "0.4682590150070747"
      ]
     },
     "execution_count": 3,
     "metadata": {},
     "output_type": "execute_result"
    }
   ],
   "source": [
    "random.random()"
   ]
  },
  {
   "cell_type": "code",
   "execution_count": 4,
   "id": "f0fb8af5",
   "metadata": {},
   "outputs": [
    {
     "data": {
      "text/plain": [
       "-71.06843114345918"
      ]
     },
     "execution_count": 4,
     "metadata": {},
     "output_type": "execute_result"
    }
   ],
   "source": [
    "random_number = random.randint(-90,90) + random.random()\n",
    "random_number"
   ]
  },
  {
   "cell_type": "code",
   "execution_count": 7,
   "id": "b065cabf",
   "metadata": {},
   "outputs": [
    {
     "data": {
      "text/plain": [
       "[-33.1053384707877,\n",
       " -35.3617331649746,\n",
       " -21.96835256376427,\n",
       " 3.5896668558512865,\n",
       " 81.21178321818442,\n",
       " 76.02443057750907,\n",
       " -25.033817395821114,\n",
       " -51.90661689949229,\n",
       " 72.05534757548335,\n",
       " -42.60435235848153]"
      ]
     },
     "execution_count": 7,
     "metadata": {},
     "output_type": "execute_result"
    }
   ],
   "source": [
    "x= 1\n",
    "latitudes = []\n",
    "while x <11:\n",
    "    random_lat = random.randint(-90,90) + random.random()\n",
    "    latitudes.append(random_lat)\n",
    "    x+=1\n",
    "    \n",
    "latitudes"
   ]
  },
  {
   "cell_type": "code",
   "execution_count": 8,
   "id": "eb81117a",
   "metadata": {},
   "outputs": [
    {
     "data": {
      "text/plain": [
       "165.22776388124487"
      ]
     },
     "execution_count": 8,
     "metadata": {},
     "output_type": "execute_result"
    }
   ],
   "source": [
    "random.uniform(-180,180)"
   ]
  },
  {
   "cell_type": "code",
   "execution_count": 9,
   "id": "88f5b205",
   "metadata": {},
   "outputs": [],
   "source": [
    "# import the NumPy module.\n",
    "import numpy as np"
   ]
  },
  {
   "cell_type": "code",
   "execution_count": 10,
   "id": "d6efea2d",
   "metadata": {},
   "outputs": [
    {
     "data": {
      "text/plain": [
       "66.37513366659951"
      ]
     },
     "execution_count": 10,
     "metadata": {},
     "output_type": "execute_result"
    }
   ],
   "source": [
    "np.random.uniform(-90.000,90.000)"
   ]
  },
  {
   "cell_type": "code",
   "execution_count": 11,
   "id": "022b1b67",
   "metadata": {},
   "outputs": [
    {
     "data": {
      "text/plain": [
       "array([-42.36214965,  37.04309903,  -7.81074821,  47.448462  ,\n",
       "        72.64966096,   0.8737898 ,  24.91678808, -42.87211488,\n",
       "       -55.89617353,  -6.35929738, -58.38693534, -71.09192758,\n",
       "       -63.69047783, -19.39677536,  39.13448294,  61.29265555,\n",
       "         1.29023492,   2.99876535,  14.97840878, -67.39093177,\n",
       "       -65.82281965,  62.69002453, -14.31108979,  40.35243184,\n",
       "       -83.89710296,  -4.14623082,  -7.37139641,  33.85701891,\n",
       "        11.08011094, -81.84295987,  34.16680803,  -4.27677145,\n",
       "       -12.7306497 ,  42.06507127, -39.88261929, -16.55270763,\n",
       "       -42.18554466, -48.84916417, -27.27563535,  61.58124527,\n",
       "        73.63812646, -51.41453322,  17.10143429, -38.95902928,\n",
       "       -16.10077699, -22.48863649,  53.99431862, -84.52801856,\n",
       "        79.62476332, -88.75548149])"
      ]
     },
     "execution_count": 11,
     "metadata": {},
     "output_type": "execute_result"
    }
   ],
   "source": [
    "np.random.uniform(-90,90,size=50)"
   ]
  },
  {
   "cell_type": "code",
   "execution_count": 12,
   "id": "ae15d8bc",
   "metadata": {},
   "outputs": [],
   "source": [
    "# import timeit\n",
    "import timeit"
   ]
  },
  {
   "cell_type": "code",
   "execution_count": 13,
   "id": "5e8f709c",
   "metadata": {},
   "outputs": [
    {
     "name": "stdout",
     "output_type": "stream",
     "text": [
      "18.5 µs ± 1.03 µs per loop (mean ± std. dev. of 7 runs, 100000 loops each)\n"
     ]
    }
   ],
   "source": [
    "%timeit np.random.uniform(-90,90,size=1500)"
   ]
  },
  {
   "cell_type": "code",
   "execution_count": 14,
   "id": "b5a2ea3b",
   "metadata": {},
   "outputs": [
    {
     "name": "stdout",
     "output_type": "stream",
     "text": [
      "2.2 ms ± 185 µs per loop (mean ± std. dev. of 7 runs, 100 loops each)\n"
     ]
    }
   ],
   "source": [
    "def latitudes(size):\n",
    "    latitudes = []\n",
    "    x = 0\n",
    "    while x < (size):\n",
    "        random_lat = random.randint(-90, 90) + random.random()\n",
    "        latitudes.append(random_lat)\n",
    "        x += 1\n",
    "    return latitudes\n",
    "# Call the function with 1500.\n",
    "%timeit latitudes(1500)"
   ]
  },
  {
   "cell_type": "code",
   "execution_count": null,
   "id": "e7301ebf",
   "metadata": {},
   "outputs": [],
   "source": []
  }
 ],
 "metadata": {
  "kernelspec": {
   "display_name": "PythonData",
   "language": "python",
   "name": "pythondata"
  },
  "language_info": {
   "codemirror_mode": {
    "name": "ipython",
    "version": 3
   },
   "file_extension": ".py",
   "mimetype": "text/x-python",
   "name": "python",
   "nbconvert_exporter": "python",
   "pygments_lexer": "ipython3",
   "version": "3.9.7"
  }
 },
 "nbformat": 4,
 "nbformat_minor": 5
}
